{
  "nbformat": 4,
  "nbformat_minor": 0,
  "metadata": {
    "colab": {
      "name": "CifarToMnist",
      "version": "0.3.2",
      "provenance": [],
      "include_colab_link": true
    },
    "kernelspec": {
      "name": "python3",
      "display_name": "Python 3"
    },
    "accelerator": "GPU"
  },
  "cells": [
    {
      "cell_type": "markdown",
      "metadata": {
        "id": "view-in-github",
        "colab_type": "text"
      },
      "source": [
        "<a href=\"https://colab.research.google.com/github/hij826/PyTorchZeroToAll/blob/master/CifarToMnist.ipynb\" target=\"_parent\"><img src=\"https://colab.research.google.com/assets/colab-badge.svg\" alt=\"Open In Colab\"/></a>"
      ]
    },
    {
      "cell_type": "code",
      "metadata": {
        "id": "7d6ayhhsHlZv",
        "colab_type": "code",
        "colab": {}
      },
      "source": [
        "import torch\n",
        "import torchvision\n",
        "import torchvision.datasets as dsets\n",
        "import torchvision.transforms as transforms\n",
        "import torch.nn as nn\n",
        "import torch.nn.init"
      ],
      "execution_count": 0,
      "outputs": []
    },
    {
      "cell_type": "code",
      "metadata": {
        "id": "GskjXfkgIhy7",
        "colab_type": "code",
        "colab": {}
      },
      "source": [
        "#cuda 사용할 때 쓰고 아니면 cpu 사용\n",
        "device = 'cuda' if torch.cuda.is_available() else 'cpu'\n"
      ],
      "execution_count": 0,
      "outputs": []
    },
    {
      "cell_type": "code",
      "metadata": {
        "id": "m1yJIGDfH1of",
        "colab_type": "code",
        "colab": {}
      },
      "source": [
        "\n",
        "trainset = dsets.MNIST(root='./data',\n",
        "                       train=True,\n",
        "                       download=True,\n",
        "                       transform=transforms.ToTensor())\n",
        "trainloader = torch.utils.data.DataLoader(trainset,\n",
        "                                          batch_size=50,\n",
        "                                          shuffle=True)\n",
        "\n",
        "testset = dsets.MNIST(root='./data',\n",
        "                      train=False,\n",
        "                      download=True,\n",
        "                      transform=transforms.ToTensor())\n",
        "testloader = torch.utils.data.DataLoader(testset, batch_size=50,\n",
        "                                         shuffle=False)\n",
        "\n",
        "classes = ('0', '1', '2', '3', '4', '5', '6', '7', '8', '9')"
      ],
      "execution_count": 0,
      "outputs": []
    },
    {
      "cell_type": "code",
      "metadata": {
        "id": "3OE2sK-GH4_j",
        "colab_type": "code",
        "colab": {}
      },
      "source": [
        "training_epochs = 10"
      ],
      "execution_count": 0,
      "outputs": []
    },
    {
      "cell_type": "code",
      "metadata": {
        "id": "69_BXs4RH6im",
        "colab_type": "code",
        "colab": {}
      },
      "source": [
        "import torch.nn.functional as F\n",
        "\n",
        "\n",
        "class Net(nn.Module):\n",
        "    def __init__(self):\n",
        "        super(Net, self).__init__()\n",
        "        #첫 번째 convolution layer\n",
        "        #1 channel 받아서 32개의 channel 내는데 kernel size는 3, padding은 1\n",
        "        self.conv1 = nn.Conv2d(1, 32, 3, padding = 1) \n",
        "        #pooling층\n",
        "        #max pooling으로 2x2\n",
        "        self.pool = nn.MaxPool2d(2, 2)\n",
        "        #두 번째 convolution layer\n",
        "        #32개의 channel 받아서 64개의 channel 내는데 kernel size 3, paading 1\n",
        "        self.conv2 = nn.Conv2d(32, 64, 3, padding = 1)\n",
        "        #첫 번째 fully connected layer\n",
        "        #지금까지 계산한 것 보면\n",
        "        #첫 번째 convolution layer 후 shape은 28x28x32\n",
        "        #첫 번째 max pooling 후 14x14x32\n",
        "        #두 번째 convolution layer 후 64x14x14\n",
        "        #두 번째 max pooling 후 7x7x64\n",
        "        self.fc1 = nn.Linear(7*7*64, 120)\n",
        "        #두 번째 fully connected layer\n",
        "        self.fc2 = nn.Linear(120, 10) # minist 총 출력이 0~9기 때문에 10\n",
        "        #self.fc3 = nn.Linear(84, 10)\n",
        "        #torch.nn.init.xavier_uniform_(self.fc1.weight)\n",
        "        \n",
        "    def forward(self, x):\n",
        "        x = self.pool(F.relu(self.conv1(x))) #첫번째 layer통과\n",
        "        x = self.pool(F.relu(self.conv2(x))) #두번째 layer통과\n",
        "        x = x.view(-1, 7*7*64) # 한 줄로 펼쳐서 batch_size x 3136 되어야 함.\n",
        "        x = self.fc1(x)\n",
        "        #x = F.relu(self.fc1(x))\n",
        "        x = F.relu(self.fc2(x)) # fully connected layer 다 통과 후 결과\n",
        "        #x = self.fc3(x)\n",
        "        return x\n",
        "\n",
        "#모델 생성. gpu 사용 위해서 to(device) 꼭 추가\n",
        "net = Net().to(device)"
      ],
      "execution_count": 0,
      "outputs": []
    },
    {
      "cell_type": "code",
      "metadata": {
        "id": "J49zISEZH8c4",
        "colab_type": "code",
        "colab": {}
      },
      "source": [
        "#loss function optimizer 선언\n",
        "import torch.optim as optim\n",
        "\n",
        "criterion = nn.CrossEntropyLoss().to(device)\n",
        "optimizer = optim.SGD(net.parameters(), lr=0.005, momentum=0.9) #SGD optimizer 사용함"
      ],
      "execution_count": 0,
      "outputs": []
    },
    {
      "cell_type": "code",
      "metadata": {
        "id": "frY2mLTtGU8T",
        "colab_type": "code",
        "colab": {
          "base_uri": "https://localhost:8080/",
          "height": 372
        },
        "outputId": "3d3ba63a-9a03-41ea-8180-88b01ed6935d"
      },
      "source": [
        "for epoch in range(3):  # 데이터셋을 수차례 반복합니다.\n",
        "\n",
        "    running_loss = 0.0\n",
        "    for i, data in enumerate(trainloader, 0):\n",
        "        # 입력을 받은 후\n",
        "        inputs, labels = data\n",
        "        inputs = inputs.to(device)\n",
        "        labels = labels.to(device)\n",
        "        \n",
        "        # 변화도(Gradient) 매개변수를 0으로 만든 후\n",
        "        optimizer.zero_grad()\n",
        "\n",
        "        # 순전파 + 역전파 + 최적화\n",
        "        outputs = net(inputs)\n",
        "        loss = criterion(outputs, labels)\n",
        "        loss.backward()\n",
        "        optimizer.step()\n",
        "\n",
        "        # 통계 출력\n",
        "        running_loss += loss.item()\n",
        "        if i % 200 == 199:    # print every 200 mini-batches\n",
        "            print('[%d, %5d] loss: %.3f' %\n",
        "                  (epoch + 1, i + 1, running_loss / 200))\n",
        "            running_loss = 0.0\n",
        "\n",
        "print('Finished Training')"
      ],
      "execution_count": 35,
      "outputs": [
        {
          "output_type": "stream",
          "text": [
            "[1,   200] loss: 0.026\n",
            "[1,   400] loss: 0.021\n",
            "[1,   600] loss: 0.025\n",
            "[1,   800] loss: 0.026\n",
            "[1,  1000] loss: 0.020\n",
            "[1,  1200] loss: 0.021\n",
            "[2,   200] loss: 0.021\n",
            "[2,   400] loss: 0.022\n",
            "[2,   600] loss: 0.021\n",
            "[2,   800] loss: 0.017\n",
            "[2,  1000] loss: 0.021\n",
            "[2,  1200] loss: 0.022\n",
            "[3,   200] loss: 0.022\n",
            "[3,   400] loss: 0.014\n",
            "[3,   600] loss: 0.017\n",
            "[3,   800] loss: 0.017\n",
            "[3,  1000] loss: 0.019\n",
            "[3,  1200] loss: 0.020\n",
            "Finished Training\n"
          ],
          "name": "stdout"
        }
      ]
    },
    {
      "cell_type": "code",
      "metadata": {
        "id": "x48WUeVVVoPl",
        "colab_type": "code",
        "outputId": "7d8027ef-a7a9-41c3-851a-62d2ce6f4258",
        "colab": {
          "base_uri": "https://localhost:8080/",
          "height": 36
        }
      },
      "source": [
        "#전체 데이터셋 정확도\n",
        "correct = 0\n",
        "total = 0\n",
        "with torch.no_grad():\n",
        "    for data in testloader:\n",
        "        images, labels = data\n",
        "        labels = labels.to(device)\n",
        "        outputs = net(images.to(device))\n",
        "        _, predicted = torch.max(outputs, 1)\n",
        "        total += labels.size(0)\n",
        "        correct += (predicted == labels).sum().item()\n",
        "\n",
        "print('Accuracy of the network on the 10000 test images: %d %%' % (\n",
        "    100 * correct / total))"
      ],
      "execution_count": 42,
      "outputs": [
        {
          "output_type": "stream",
          "text": [
            "Accuracy of the network on the 10000 test images: 99 %\n"
          ],
          "name": "stdout"
        }
      ]
    },
    {
      "cell_type": "code",
      "metadata": {
        "id": "V0Q1XlXbL7kb",
        "colab_type": "code",
        "outputId": "12bdb194-6c19-42db-87e2-936285924896",
        "colab": {
          "base_uri": "https://localhost:8080/",
          "height": 204
        }
      },
      "source": [
        "\n",
        "class_correct = list(0. for i in range(10))\n",
        "class_total = list(0. for i in range(10))\n",
        "with torch.no_grad():\n",
        "    for data in testloader:\n",
        "        images, labels = data\n",
        "        labels = labels.to(device)\n",
        "        outputs = net(images.to(device))\n",
        "        _, predicted = torch.max(outputs, 1)\n",
        "        c = (predicted == labels).squeeze()\n",
        "        for i in range(4):\n",
        "            label = labels[i]\n",
        "            class_correct[label] += c[i].item()\n",
        "            class_total[label] += 1\n",
        "\n",
        "\n",
        "for i in range(10):\n",
        "    print('Accuracy of %5s : %2d %%' % (\n",
        "        classes[i], 100 * class_correct[i] / class_total[i]))"
      ],
      "execution_count": 43,
      "outputs": [
        {
          "output_type": "stream",
          "text": [
            "Accuracy of     0 : 98 %\n",
            "Accuracy of     1 : 100 %\n",
            "Accuracy of     2 : 100 %\n",
            "Accuracy of     3 : 100 %\n",
            "Accuracy of     4 : 100 %\n",
            "Accuracy of     5 : 100 %\n",
            "Accuracy of     6 : 98 %\n",
            "Accuracy of     7 : 98 %\n",
            "Accuracy of     8 : 100 %\n",
            "Accuracy of     9 : 97 %\n"
          ],
          "name": "stdout"
        }
      ]
    },
    {
      "cell_type": "code",
      "metadata": {
        "id": "KlwkeAZZXU0m",
        "colab_type": "code",
        "colab": {}
      },
      "source": [
        ""
      ],
      "execution_count": 0,
      "outputs": []
    }
  ]
}